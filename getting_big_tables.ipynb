{
 "cells": [
  {
   "cell_type": "markdown",
   "source": [
    "Обработка файлов с данными по годам - объединение в один файл"
   ],
   "metadata": {
    "collapsed": false
   }
  },
  {
   "cell_type": "code",
   "execution_count": 34,
   "outputs": [],
   "source": [
    "import os\n",
    "import pandas as pd"
   ],
   "metadata": {
    "collapsed": false,
    "ExecuteTime": {
     "start_time": "2023-04-07T20:27:51.605415Z",
     "end_time": "2023-04-07T20:27:51.637408Z"
    }
   }
  },
  {
   "cell_type": "markdown",
   "source": [
    "2014: Q1-Q2, Q3-07, Q3-0809, Q4"
   ],
   "metadata": {
    "collapsed": false
   }
  },
  {
   "cell_type": "code",
   "execution_count": null,
   "outputs": [],
   "source": [
    "df = pd.read_csv(\"data/2014/Divvy_Trips_2014_Q1Q2.csv\")\n",
    "df = pd.concat(\n",
    "    [\n",
    "        df,\n",
    "        pd.read_csv(\"data/2014/Divvy_Trips_2014-Q3-07.csv\"),\n",
    "        pd.read_csv(\"data/2014/Divvy_Trips_2014-Q3-0809.csv\"),\n",
    "        pd.read_csv(\"data/2014/Divvy_Trips_2014-Q4.csv\"),\n",
    "    ]\n",
    ")"
   ],
   "metadata": {
    "collapsed": false,
    "ExecuteTime": {
     "start_time": "2023-04-07T19:13:22.383475Z",
     "end_time": "2023-04-07T19:13:31.080801Z"
    }
   }
  },
  {
   "cell_type": "code",
   "execution_count": null,
   "outputs": [],
   "source": [
    "df.to_csv(\"data/2014/Divvy_Trips_2014_full.csv.gz\", index=False, compression=\"gzip\")"
   ],
   "metadata": {
    "collapsed": false,
    "ExecuteTime": {
     "start_time": "2023-04-07T19:27:19.712699Z",
     "end_time": "2023-04-07T19:28:27.180028Z"
    }
   }
  },
  {
   "cell_type": "markdown",
   "source": [
    "2015: Q1, Q2, 07, 08, 09, Q4"
   ],
   "metadata": {
    "collapsed": false
   }
  },
  {
   "cell_type": "code",
   "execution_count": 20,
   "outputs": [],
   "source": [
    "df = pd.read_csv(\"data/2015/Divvy_Trips_2015-Q1.csv\")\n",
    "df = pd.concat(\n",
    "    [\n",
    "        df,\n",
    "        pd.read_csv(\"data/2015/Divvy_Trips_2015-Q2.csv\"),\n",
    "        pd.read_csv(\"data/2015/Divvy_Trips_2015_07.csv\"),\n",
    "        pd.read_csv(\"data/2015/Divvy_Trips_2015_08.csv\"),\n",
    "        pd.read_csv(\"data/2015/Divvy_Trips_2015_09.csv\"),\n",
    "        pd.read_csv(\"data/2015/Divvy_Trips_2015_Q4.csv\"),\n",
    "    ]\n",
    ")"
   ],
   "metadata": {
    "collapsed": false,
    "ExecuteTime": {
     "start_time": "2023-04-07T19:32:34.224218Z",
     "end_time": "2023-04-07T19:32:46.944763Z"
    }
   }
  },
  {
   "cell_type": "code",
   "execution_count": 21,
   "outputs": [],
   "source": [
    "df.to_csv(\"data/2015/Divvy_Trips_2015_full.csv.gz\", index=False, compression=\"gzip\")"
   ],
   "metadata": {
    "collapsed": false,
    "ExecuteTime": {
     "start_time": "2023-04-07T19:32:46.958767Z",
     "end_time": "2023-04-07T19:33:45.006479Z"
    }
   }
  },
  {
   "cell_type": "markdown",
   "source": [
    "2016: Q1, 04, 05, 06, Q3, Q4"
   ],
   "metadata": {
    "collapsed": false
   }
  },
  {
   "cell_type": "code",
   "execution_count": 22,
   "outputs": [],
   "source": [
    "df = pd.read_csv(\"data/2016/Divvy_Trips_2016_Q1.csv\")\n",
    "df = pd.concat(\n",
    "    [\n",
    "        df,\n",
    "        pd.read_csv(\"data/2016/Divvy_Trips_2016_04.csv\"),\n",
    "        pd.read_csv(\"data/2016/Divvy_Trips_2016_05.csv\"),\n",
    "        pd.read_csv(\"data/2016/Divvy_Trips_2016_06.csv\"),\n",
    "        pd.read_csv(\"data/2016/Divvy_Trips_2016_Q3.csv\"),\n",
    "        pd.read_csv(\"data/2016/Divvy_Trips_2016_Q4.csv\"),\n",
    "    ]\n",
    ")"
   ],
   "metadata": {
    "collapsed": false,
    "ExecuteTime": {
     "start_time": "2023-04-07T19:36:20.359747Z",
     "end_time": "2023-04-07T19:36:41.942068Z"
    }
   }
  },
  {
   "cell_type": "code",
   "execution_count": 23,
   "outputs": [],
   "source": [
    "df.to_csv(\"data/2016/Divvy_Trips_2016_full.csv.gz\", index=False, compression=\"gzip\")"
   ],
   "metadata": {
    "collapsed": false,
    "ExecuteTime": {
     "start_time": "2023-04-07T19:36:41.957069Z",
     "end_time": "2023-04-07T19:38:24.395429Z"
    }
   }
  },
  {
   "cell_type": "markdown",
   "source": [
    "2017 & 2018 & 2019: Q1, Q2, Q3, Q4"
   ],
   "metadata": {
    "collapsed": false
   }
  },
  {
   "cell_type": "code",
   "execution_count": 28,
   "outputs": [],
   "source": [
    "for year in range(2017, 2020):\n",
    "    df = pd.read_csv(f\"data/{year}/Divvy_Trips_{year}_Q1.csv\")\n",
    "    for quartal in range(1, 5):\n",
    "        df = pd.concat([df, pd.read_csv(f\"data/2017/Divvy_Trips_2017_Q{quartal}.csv\")])\n",
    "    df.to_csv(\n",
    "        f\"data/{year}/Divvy_Trips_{year}_full.csv.gz\", index=False, compression=\"gzip\"\n",
    "    )"
   ],
   "metadata": {
    "collapsed": false,
    "ExecuteTime": {
     "start_time": "2023-04-07T19:42:58.277008Z",
     "end_time": "2023-04-07T19:49:25.245918Z"
    }
   }
  },
  {
   "cell_type": "markdown",
   "source": [
    "2020: Q1 и месяцы в формате 202004"
   ],
   "metadata": {
    "collapsed": false
   }
  },
  {
   "cell_type": "code",
   "execution_count": 32,
   "outputs": [],
   "source": [
    "df = pd.read_csv(\"data/2020/Divvy_Trips_2020_Q1.csv\")\n",
    "for month in range(4, 13):\n",
    "    df = pd.concat([df, pd.read_csv(f\"data/2020/2020{month:02}-divvy-tripdata.csv\")])\n",
    "df.to_csv(\"data/2020/Divvy_Trips_2020_full.csv.gz\", index=False, compression=\"gzip\")"
   ],
   "metadata": {
    "collapsed": false,
    "ExecuteTime": {
     "start_time": "2023-04-07T20:14:12.766571Z",
     "end_time": "2023-04-07T20:17:11.240419Z"
    }
   }
  },
  {
   "cell_type": "markdown",
   "source": [
    "2021, 2022, 2023: только месяцы в формате 202101"
   ],
   "metadata": {
    "collapsed": false
   }
  },
  {
   "cell_type": "code",
   "execution_count": 36,
   "outputs": [],
   "source": [
    "for year in range(2021, 2024):\n",
    "    df = pd.read_csv(f\"data/{year}/{year}01-divvy-tripdata.csv\")\n",
    "    for month in range(2, 13):\n",
    "        # Есть несколько вариантов названия файла\n",
    "        path1 = f\"data/{year}/{year}{month:02}-divvy-tripdata.csv\"\n",
    "        path2 = f\"data/{year}/{year}{month:02}-divvy-publictripdata.csv\"\n",
    "        # Проверяем есть ли файл по пути, потому что в 2023 нет всех месяцев\n",
    "        if os.path.exists(path1):\n",
    "            df = pd.concat([df, pd.read_csv(path1)])\n",
    "        elif os.path.exists(path2):\n",
    "            df = pd.concat([df, pd.read_csv(path2)])\n",
    "    df.to_csv(\n",
    "        f\"data/{year}/Divvy_Trips_{year}_full.csv.gz\", index=False, compression=\"gzip\"\n",
    "    )"
   ],
   "metadata": {
    "collapsed": false,
    "ExecuteTime": {
     "start_time": "2023-04-07T20:45:30.686413Z",
     "end_time": "2023-04-07T20:56:14.885718Z"
    }
   }
  }
 ],
 "metadata": {
  "kernelspec": {
   "display_name": "Python 3",
   "language": "python",
   "name": "python3"
  },
  "language_info": {
   "codemirror_mode": {
    "name": "ipython",
    "version": 2
   },
   "file_extension": ".py",
   "mimetype": "text/x-python",
   "name": "python",
   "nbconvert_exporter": "python",
   "pygments_lexer": "ipython2",
   "version": "2.7.6"
  }
 },
 "nbformat": 4,
 "nbformat_minor": 0
}
