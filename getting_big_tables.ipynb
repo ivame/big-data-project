{
 "cells": [
  {
   "cell_type": "markdown",
   "metadata": {},
   "source": [
    "### Обработка файлов с данными по годам - объединение в один файл\n",
    "#### Обработка файлов с поездками\n",
    "За годы были разные форматы файлов с разной периодичностью, поэтому обработка в разных годах может отличаться."
   ]
  },
  {
   "cell_type": "code",
   "execution_count": null,
   "metadata": {
    "ExecuteTime": {
     "end_time": "2023-04-07T22:51:31.696148Z",
     "start_time": "2023-04-07T22:51:30.643834Z"
    }
   },
   "outputs": [],
   "source": [
    "import os\n",
    "import pandas as pd"
   ]
  },
  {
   "cell_type": "markdown",
   "metadata": {},
   "source": [
    "#### 2014\n",
    " - Файл за 1-2 кварталы\n",
    "- Файл за первый месяц третьего квартала\n",
    "- Файл за последние два месяца третьего квартала\n",
    "- Файл за 4 квартал"
   ]
  },
  {
   "cell_type": "code",
   "execution_count": null,
   "metadata": {
    "ExecuteTime": {
     "end_time": "2023-04-07T19:13:31.080801Z",
     "start_time": "2023-04-07T19:13:22.383475Z"
    }
   },
   "outputs": [],
   "source": [
    "df = pd.read_csv(\"data/2014/Divvy_Trips_2014_Q1Q2.csv\")\n",
    "df = pd.concat(\n",
    "    [\n",
    "        df,\n",
    "        pd.read_csv(\"data/2014/Divvy_Trips_2014-Q3-07.csv\"),\n",
    "        pd.read_csv(\"data/2014/Divvy_Trips_2014-Q3-0809.csv\"),\n",
    "        pd.read_csv(\"data/2014/Divvy_Trips_2014-Q4.csv\"),\n",
    "    ]\n",
    ")"
   ]
  },
  {
   "cell_type": "code",
   "execution_count": null,
   "metadata": {
    "ExecuteTime": {
     "end_time": "2023-04-07T19:28:27.180028Z",
     "start_time": "2023-04-07T19:27:19.712699Z"
    }
   },
   "outputs": [],
   "source": [
    "df.to_csv(\"data/2014/Divvy_Trips_2014_full.csv.gz\", index=False, compression=\"gzip\")"
   ]
  },
  {
   "cell_type": "markdown",
   "metadata": {},
   "source": [
    "#### 2015\n",
    " - Файлы за 1, 2 и 4 квартал\n",
    "- Файлы по месяцам за 3 квартал"
   ]
  },
  {
   "cell_type": "code",
   "execution_count": null,
   "metadata": {
    "ExecuteTime": {
     "end_time": "2023-04-07T19:32:46.944763Z",
     "start_time": "2023-04-07T19:32:34.224218Z"
    }
   },
   "outputs": [],
   "source": [
    "df = pd.read_csv(\"data/2015/Divvy_Trips_2015-Q1.csv\")\n",
    "df = pd.concat(\n",
    "    [\n",
    "        df,\n",
    "        pd.read_csv(\"data/2015/Divvy_Trips_2015-Q2.csv\"),\n",
    "        pd.read_csv(\"data/2015/Divvy_Trips_2015_07.csv\"),\n",
    "        pd.read_csv(\"data/2015/Divvy_Trips_2015_08.csv\"),\n",
    "        pd.read_csv(\"data/2015/Divvy_Trips_2015_09.csv\"),\n",
    "        pd.read_csv(\"data/2015/Divvy_Trips_2015_Q4.csv\"),\n",
    "    ]\n",
    ")"
   ]
  },
  {
   "cell_type": "code",
   "execution_count": null,
   "metadata": {
    "ExecuteTime": {
     "end_time": "2023-04-07T19:33:45.006479Z",
     "start_time": "2023-04-07T19:32:46.958767Z"
    }
   },
   "outputs": [],
   "source": [
    "df.to_csv(\"data/2015/Divvy_Trips_2015_full.csv.gz\", index=False, compression=\"gzip\")"
   ]
  },
  {
   "cell_type": "markdown",
   "metadata": {},
   "source": [
    "#### 2016\n",
    " - Файлы за 1, 3 и 4 квартал\n",
    "- Файлы по месяцам за 2 квартал"
   ]
  },
  {
   "cell_type": "code",
   "execution_count": null,
   "metadata": {
    "ExecuteTime": {
     "end_time": "2023-04-07T19:36:41.942068Z",
     "start_time": "2023-04-07T19:36:20.359747Z"
    }
   },
   "outputs": [],
   "source": [
    "df = pd.read_csv(\"data/2016/Divvy_Trips_2016_Q1.csv\")\n",
    "df = pd.concat(\n",
    "    [\n",
    "        df,\n",
    "        pd.read_csv(\"data/2016/Divvy_Trips_2016_04.csv\"),\n",
    "        pd.read_csv(\"data/2016/Divvy_Trips_2016_05.csv\"),\n",
    "        pd.read_csv(\"data/2016/Divvy_Trips_2016_06.csv\"),\n",
    "        pd.read_csv(\"data/2016/Divvy_Trips_2016_Q3.csv\"),\n",
    "        pd.read_csv(\"data/2016/Divvy_Trips_2016_Q4.csv\"),\n",
    "    ]\n",
    ")"
   ]
  },
  {
   "cell_type": "code",
   "execution_count": null,
   "metadata": {
    "ExecuteTime": {
     "end_time": "2023-04-07T19:38:24.395429Z",
     "start_time": "2023-04-07T19:36:41.957069Z"
    }
   },
   "outputs": [],
   "source": [
    "df.to_csv(\"data/2016/Divvy_Trips_2016_full.csv.gz\", index=False, compression=\"gzip\")"
   ]
  },
  {
   "cell_type": "markdown",
   "metadata": {},
   "source": [
    "#### 2017 & 2018 & 2019\n",
    " - Только файлы по кварталам"
   ]
  },
  {
   "cell_type": "code",
   "execution_count": null,
   "metadata": {
    "ExecuteTime": {
     "end_time": "2023-04-07T19:49:25.245918Z",
     "start_time": "2023-04-07T19:42:58.277008Z"
    }
   },
   "outputs": [],
   "source": [
    "for year in range(2017, 2020):\n",
    "    df = pd.read_csv(f\"data/{year}/Divvy_Trips_{year}_Q1.csv\")\n",
    "    for quartal in range(1, 5):\n",
    "        df = pd.concat([df, pd.read_csv(f\"data/2017/Divvy_Trips_2017_Q{quartal}.csv\")])\n",
    "    df.to_csv(\n",
    "        f\"data/{year}/Divvy_Trips_{year}_full.csv.gz\", index=False, compression=\"gzip\"\n",
    "    )"
   ]
  },
  {
   "cell_type": "markdown",
   "metadata": {},
   "source": [
    "#### 2020\n",
    "- 1 Файл за первый квартал\n",
    "- Много файлов по месяцам в формате 202004"
   ]
  },
  {
   "cell_type": "code",
   "execution_count": null,
   "metadata": {
    "ExecuteTime": {
     "end_time": "2023-04-07T20:17:11.240419Z",
     "start_time": "2023-04-07T20:14:12.766571Z"
    }
   },
   "outputs": [],
   "source": [
    "df = pd.read_csv(\"data/2020/Divvy_Trips_2020_Q1.csv\")\n",
    "for month in range(4, 13):\n",
    "    df = pd.concat([df, pd.read_csv(f\"data/2020/2020{month:02}-divvy-tripdata.csv\")])\n",
    "df.to_csv(\"data/2020/Divvy_Trips_2020_full.csv.gz\", index=False, compression=\"gzip\")"
   ]
  },
  {
   "cell_type": "markdown",
   "metadata": {},
   "source": [
    "#### 2021, 2022, 2023\n",
    "- Только файлы по месяцам в формате 202101"
   ]
  },
  {
   "cell_type": "code",
   "execution_count": null,
   "metadata": {
    "ExecuteTime": {
     "end_time": "2023-04-07T20:56:14.885718Z",
     "start_time": "2023-04-07T20:45:30.686413Z"
    }
   },
   "outputs": [],
   "source": [
    "for year in range(2021, 2024):\n",
    "    df = pd.read_csv(f\"data/{year}/{year}01-divvy-tripdata.csv\")\n",
    "    for month in range(2, 13):\n",
    "        # Есть несколько вариантов названия файла\n",
    "        path1 = f\"data/{year}/{year}{month:02}-divvy-tripdata.csv\"\n",
    "        path2 = f\"data/{year}/{year}{month:02}-divvy-publictripdata.csv\"\n",
    "        # Проверяем есть ли файл по пути, потому что в 2023 нет всех месяцев\n",
    "        if os.path.exists(path1):\n",
    "            df = pd.concat([df, pd.read_csv(path1)])\n",
    "        elif os.path.exists(path2):\n",
    "            df = pd.concat([df, pd.read_csv(path2)])\n",
    "    df.to_csv(\n",
    "        f\"data/{year}/Divvy_Trips_{year}_full.csv.gz\", index=False, compression=\"gzip\"\n",
    "    )"
   ]
  },
  {
   "cell_type": "markdown",
   "metadata": {},
   "source": [
    "### Обработка файлов со станциями\n",
    "- Информация о станциях есть только до 2017 года, поэтому обработка только для этих годов.\n",
    "- В 2013 и 2015 годах уже есть только один файл, поэтому обработка не нужна."
   ]
  },
  {
   "cell_type": "markdown",
   "metadata": {},
   "source": [
    "#### 2014\n",
    "- xlsx файл за 1-2 квартал\n",
    "- csv файл за 3-4 квартал"
   ]
  },
  {
   "cell_type": "code",
   "execution_count": null,
   "metadata": {
    "ExecuteTime": {
     "start_time": "2023-04-08T00:08:27.143444Z",
     "end_time": "2023-04-08T00:08:27.357981Z"
    }
   },
   "outputs": [],
   "source": [
    "df_q1_2 = pd.read_excel(\n",
    "    \"data/2014/Divvy_Stations_2014-Q1Q2.xlsx\", parse_dates=[\"online date\"]\n",
    ")\n",
    "df_q3_4 = pd.read_csv(\n",
    "    \"data/2014/Divvy_Stations_2014-Q3Q4.csv\", parse_dates=[\"dateCreated\"]\n",
    ")"
   ]
  },
  {
   "cell_type": "markdown",
   "source": [
    "Оба файла содержат одинаковую информацию, но в файле за 3-4 квартал есть столбец *\"date created\"*, который отсутствует в первом файле, поэтому объединяем их в один файл не теряя колонки и данных."
   ],
   "metadata": {
    "collapsed": false
   }
  },
  {
   "cell_type": "code",
   "execution_count": null,
   "outputs": [],
   "source": [
    "df_q1_2 = df_q1_2.drop(columns=[\"name\", \"latitude\", \"longitude\", \"dpcapacity\"])"
   ],
   "metadata": {
    "collapsed": false,
    "ExecuteTime": {
     "start_time": "2023-04-08T00:10:15.502200Z",
     "end_time": "2023-04-08T00:10:15.571489Z"
    }
   }
  },
  {
   "cell_type": "code",
   "execution_count": null,
   "outputs": [],
   "source": [
    "result = df_q3_4.merge(df_q1_2, on=\"id\", how=\"left\")"
   ],
   "metadata": {
    "collapsed": false,
    "ExecuteTime": {
     "start_time": "2023-04-08T00:14:26.486706Z",
     "end_time": "2023-04-08T00:14:26.517548Z"
    }
   }
  },
  {
   "cell_type": "code",
   "execution_count": null,
   "outputs": [],
   "source": [
    "# Сохраняем результат со стандартным названием\n",
    "result.to_csv(\"data/2014/Divvy_Stations_2014.csv\", index=False)"
   ],
   "metadata": {
    "collapsed": false,
    "ExecuteTime": {
     "start_time": "2023-04-08T00:15:26.814548Z",
     "end_time": "2023-04-08T00:15:26.896563Z"
    }
   }
  },
  {
   "cell_type": "markdown",
   "source": [
    "\n",
    "#### 2016\n",
    "- Файл за 1-2 квартал\n",
    "- Файл за 3 квартал\n",
    "- Файл за 4 квартал"
   ],
   "metadata": {
    "collapsed": false
   }
  },
  {
   "cell_type": "code",
   "execution_count": null,
   "outputs": [],
   "source": [
    "df = pd.read_csv(\"data/2016/Divvy_Stations_2016_Q1Q2.csv\")"
   ],
   "metadata": {
    "collapsed": false,
    "ExecuteTime": {
     "start_time": "2023-04-08T00:20:10.485254Z",
     "end_time": "2023-04-08T00:20:10.545280Z"
    }
   }
  },
  {
   "cell_type": "code",
   "execution_count": null,
   "outputs": [],
   "source": [
    "result = pd.concat(\n",
    "    [\n",
    "        df,\n",
    "        pd.read_csv(\"data/2016/Divvy_Stations_2016_Q3.csv\"),\n",
    "        pd.read_csv(\"data/2016/Divvy_Stations_2016_Q4.csv\"),\n",
    "    ]\n",
    ")"
   ],
   "metadata": {
    "collapsed": false,
    "ExecuteTime": {
     "start_time": "2023-04-08T00:20:44.160097Z",
     "end_time": "2023-04-08T00:20:44.250103Z"
    }
   }
  },
  {
   "cell_type": "code",
   "execution_count": null,
   "outputs": [],
   "source": [
    "result.to_csv(\"data/2016/Divvy_Stations_2016.csv\", index=False)"
   ],
   "metadata": {
    "collapsed": false,
    "ExecuteTime": {
     "start_time": "2023-04-08T00:20:48.728529Z",
     "end_time": "2023-04-08T00:20:48.788537Z"
    }
   }
  },
  {
   "cell_type": "markdown",
   "source": [
    "#### 2017\n",
    "- Файл за 1-2 квартал\n",
    "- Файл за 3-4 квартал"
   ],
   "metadata": {
    "collapsed": false
   }
  },
  {
   "cell_type": "code",
   "execution_count": null,
   "outputs": [],
   "source": [
    "df = pd.read_csv(\"data/2017/Divvy_Stations_2017_Q1Q2.csv\")"
   ],
   "metadata": {
    "collapsed": false,
    "ExecuteTime": {
     "start_time": "2023-04-08T00:21:13.924179Z",
     "end_time": "2023-04-08T00:21:14.004199Z"
    }
   }
  },
  {
   "cell_type": "code",
   "execution_count": null,
   "outputs": [],
   "source": [
    "result = pd.concat([df, pd.read_csv(\"data/2017/Divvy_Stations_2017_Q3Q4.csv\")])"
   ],
   "metadata": {
    "collapsed": false,
    "ExecuteTime": {
     "start_time": "2023-04-08T00:21:18.036999Z",
     "end_time": "2023-04-08T00:21:19.557311Z"
    }
   }
  },
  {
   "cell_type": "code",
   "execution_count": null,
   "outputs": [],
   "source": [
    "result.to_csv(\"data/2017/Divvy_Stations_2017.csv\", index=False)"
   ],
   "metadata": {
    "collapsed": false,
    "ExecuteTime": {
     "start_time": "2023-04-08T00:21:23.427683Z",
     "end_time": "2023-04-08T00:21:23.477236Z"
    }
   }
  }
 ],
 "metadata": {
  "kernelspec": {
   "display_name": "Python 3 (ipykernel)",
   "language": "python",
   "name": "python3"
  },
  "language_info": {
   "codemirror_mode": {
    "name": "ipython",
    "version": 3
   },
   "file_extension": ".py",
   "mimetype": "text/x-python",
   "name": "python",
   "nbconvert_exporter": "python",
   "pygments_lexer": "ipython3",
   "version": "3.10.7"
  },
  "toc": {
   "base_numbering": 1,
   "nav_menu": {},
   "number_sections": true,
   "sideBar": true,
   "skip_h1_title": false,
   "title_cell": "Table of Contents",
   "title_sidebar": "Contents",
   "toc_cell": false,
   "toc_position": {},
   "toc_section_display": true,
   "toc_window_display": false
  }
 },
 "nbformat": 4,
 "nbformat_minor": 1
}
